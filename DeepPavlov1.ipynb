{
  "nbformat": 4,
  "nbformat_minor": 0,
  "metadata": {
    "colab": {
      "name": "DeepPavlov1.ipynb",
      "provenance": [],
      "authorship_tag": "ABX9TyO8wVfN7Uj+9lJSb6GznVG3",
      "include_colab_link": true
    },
    "kernelspec": {
      "name": "python3",
      "display_name": "Python 3"
    }
  },
  "cells": [
    {
      "cell_type": "markdown",
      "metadata": {
        "id": "view-in-github",
        "colab_type": "text"
      },
      "source": [
        "<a href=\"https://colab.research.google.com/github/rushikeshak15/DeepPavlov/blob/master/DeepPavlov1.ipynb\" target=\"_parent\"><img src=\"https://colab.research.google.com/assets/colab-badge.svg\" alt=\"Open In Colab\"/></a>"
      ]
    },
    {
      "cell_type": "code",
      "metadata": {
        "id": "BqAHYKlIFb6r",
        "colab_type": "code",
        "colab": {}
      },
      "source": [
        "!pip install deeppavlov\n",
        "!pip install spacy==2.1.0 --force-reinstall\n",
        "!pip install neuralcoref\n",
        "!python -m spacy download en"
      ],
      "execution_count": 0,
      "outputs": []
    },
    {
      "cell_type": "code",
      "metadata": {
        "id": "0EiJBxV7FeN1",
        "colab_type": "code",
        "colab": {}
      },
      "source": [
        "import os\n",
        "os.environ[\"KERAS_BACKEND\"] = \"tensorflow\"\n",
        "\n",
        "from deeppavlov import configs, build_model\n",
        "\n",
        "from deeppavlov.core.commands.infer import build_model as build_model_coref\n",
        "\n",
        "import neuralcoref\n",
        "import spacy"
      ],
      "execution_count": 0,
      "outputs": []
    },
    {
      "cell_type": "code",
      "metadata": {
        "id": "flMmVtg_FfjO",
        "colab_type": "code",
        "colab": {}
      },
      "source": [
        "ner_model = build_model(configs.ner.ner_ontonotes_bert, download=True)\n",
        "nlp = spacy.load('en')\n",
        "neuralcoref.add_to_pipe(nlp)"
      ],
      "execution_count": 0,
      "outputs": []
    },
    {
      "cell_type": "code",
      "metadata": {
        "id": "W7-7F4xGFgMU",
        "colab_type": "code",
        "colab": {}
      },
      "source": [
        "sentences = [\"The first boat carrying around ten of them with several large bags docks at Macchimar Nagar, in Mumbai's Cuffe Parade neighbourhood, where six of the men disembark and the rest continue sailing along the shore. When local residents ask about their occupation, the group responds that they are students.\"]"
      ],
      "execution_count": 0,
      "outputs": []
    },
    {
      "cell_type": "code",
      "metadata": {
        "id": "FRlmJoGXFgyo",
        "colab_type": "code",
        "colab": {}
      },
      "source": [
        "from google.colab import drive\n",
        "drive.mount('/content/gdrive')"
      ],
      "execution_count": 0,
      "outputs": []
    },
    {
      "cell_type": "code",
      "metadata": {
        "id": "1yFgdLhuFhVr",
        "colab_type": "code",
        "colab": {}
      },
      "source": [
        "sentences = [open(\"/content/gdrive/My Drive/Article.txt\").read()]"
      ],
      "execution_count": 0,
      "outputs": []
    },
    {
      "cell_type": "code",
      "metadata": {
        "id": "hl9zRwEFFh8G",
        "colab_type": "code",
        "colab": {}
      },
      "source": [
        "ner_output = ner_model(sentences)\n",
        "ner_output"
      ],
      "execution_count": 0,
      "outputs": []
    },
    {
      "cell_type": "code",
      "metadata": {
        "id": "H7cfGLBYFiZv",
        "colab_type": "code",
        "colab": {}
      },
      "source": [
        "tokens = ner_output[0][0]\n",
        "tags = ner_output[1][0]\n",
        "ner_tuples = list(tuple for tuple in zip(tokens, tags) if tuple[1] != \"O\")\n",
        "ner_tuples"
      ],
      "execution_count": 0,
      "outputs": []
    },
    {
      "cell_type": "code",
      "metadata": {
        "id": "BwTJi66gFi3o",
        "colab_type": "code",
        "colab": {}
      },
      "source": [
        "parser = build_model(configs.morpho_tagger.UD2_0.morpho_en, download=True)"
      ],
      "execution_count": 0,
      "outputs": []
    },
    {
      "cell_type": "code",
      "metadata": {
        "id": "0VGhjKyEFjW0",
        "colab_type": "code",
        "colab": {}
      },
      "source": [
        "for parse in parser.batched_call(sentences, batch_size=16):\n",
        "    print(parse)"
      ],
      "execution_count": 0,
      "outputs": []
    },
    {
      "cell_type": "code",
      "metadata": {
        "id": "F2W2dsypGTP_",
        "colab_type": "code",
        "colab": {}
      },
      "source": [
        "doc = nlp(''.join(sentences))"
      ],
      "execution_count": 0,
      "outputs": []
    },
    {
      "cell_type": "code",
      "metadata": {
        "id": "o1E7GicBGYwQ",
        "colab_type": "code",
        "colab": {}
      },
      "source": [
        "coref_clusters = doc._.coref_clusters\n",
        "coref_clusters"
      ],
      "execution_count": 0,
      "outputs": []
    }
  ]
}